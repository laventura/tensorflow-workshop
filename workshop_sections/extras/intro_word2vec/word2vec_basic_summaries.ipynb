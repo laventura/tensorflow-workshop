{
 "cells": [
  {
   "cell_type": "markdown",
   "metadata": {
    "colab_type": "text",
    "id": "D7tqLMoKF6uq"
   },
   "source": [
    "This notebook trains a Word2Vec skip-gram model over [Text8](http://mattmahoney.net/dc/textdata) data. It's based on the code [here](https://github.com/tensorflow/tensorflow/tree/master/tensorflow/examples/tutorials/word2vec), with the additional use of the SummaryWriter, so that we can track training progress in TensorBoard.\n",
    "See [this example](https://github.com/amygdala/tensorflow-workshop/blob/master/workshop_sections/intro_word2vec/word2vec_basic_summaries.py) for its script counterpart."
   ]
  },
  {
   "cell_type": "code",
   "execution_count": 1,
   "metadata": {
    "cellView": "both",
    "colab": {
     "autoexec": {
      "startup": false,
      "wait_interval": 0
     }
    },
    "colab_type": "code",
    "collapsed": true,
    "id": "0K1ZyLn04QZf"
   },
   "outputs": [],
   "source": [
    "# These are all the modules we'll be using later. Make sure you can import them\n",
    "# before proceeding further.\n",
    "%matplotlib inline\n",
    "from __future__ import absolute_import\n",
    "from __future__ import division\n",
    "from __future__ import print_function\n",
    "\n",
    "import collections\n",
    "import math\n",
    "import os\n",
    "import random\n",
    "import time\n",
    "import zipfile\n",
    "\n",
    "import numpy as np\n",
    "from six.moves import urllib\n",
    "from six.moves import xrange  # pylint: disable=redefined-builtin\n",
    "import tensorflow as tf\n",
    "\n",
    "from sklearn.manifold import TSNE"
   ]
  },
  {
   "cell_type": "markdown",
   "metadata": {
    "colab_type": "text",
    "id": "aCjPJE944bkV"
   },
   "source": [
    "Download the data from the source website if necessary."
   ]
  },
  {
   "cell_type": "code",
   "execution_count": 3,
   "metadata": {
    "cellView": "both",
    "colab": {
     "autoexec": {
      "startup": false,
      "wait_interval": 0
     },
     "output_extras": [
      {
       "item_id": 1
      }
     ]
    },
    "colab_type": "code",
    "collapsed": false,
    "executionInfo": {
     "elapsed": 14640,
     "status": "ok",
     "timestamp": 1445964482948,
     "user": {
      "color": "#1FA15D",
      "displayName": "Vincent Vanhoucke",
      "isAnonymous": false,
      "isMe": true,
      "permissionId": "05076109866853157986",
      "photoUrl": "//lh6.googleusercontent.com/-cCJa7dTDcgQ/AAAAAAAAAAI/AAAAAAAACgw/r2EZ_8oYer4/s50-c-k-no/photo.jpg",
      "sessionId": "2f1ffade4c9f20de",
      "userId": "102167687554210253930"
     },
     "user_tz": 420
    },
    "id": "RJ-o3UBUFtCw",
    "outputId": "c4ec222c-80b5-4298-e635-93ca9f79c3b7"
   },
   "outputs": [
    {
     "name": "stdout",
     "output_type": "stream",
     "text": [
      "Dataset at: /Users/aa/Developer/datasets/text8.zip\n"
     ]
    }
   ],
   "source": [
    "url = 'http://mattmahoney.net/dc/'\n",
    "\n",
    "def maybe_download(filename, expected_bytes):\n",
    "  \"\"\"Download a file if not present, and make sure it's the right size.\"\"\"\n",
    "  if not os.path.exists(filename):\n",
    "    filename, _ = urllib.request.urlretrieve(url + filename, filename)\n",
    "  statinfo = os.stat(filename)\n",
    "  if statinfo.st_size == expected_bytes:\n",
    "    print('Found and verified %s' % filename)\n",
    "  else:\n",
    "    print(statinfo.st_size)\n",
    "    raise Exception(\n",
    "      'Failed to verify ' + filename + '. Can you get to it with a browser?')\n",
    "  return filename\n",
    "\n",
    "## filename = maybe_download('text8.zip', 31344016)\n",
    "\n",
    "## Modified by Atul -- bcos already downloaded\n",
    "filename = '/Users/aa/Developer/datasets/text8.zip'\n",
    "\n",
    "print('Dataset at:', filename)"
   ]
  },
  {
   "cell_type": "markdown",
   "metadata": {
    "colab_type": "text",
    "id": "Zqz3XiqI4mZT"
   },
   "source": [
    "Read the data into a string."
   ]
  },
  {
   "cell_type": "code",
   "execution_count": 14,
   "metadata": {
    "cellView": "both",
    "colab": {
     "autoexec": {
      "startup": false,
      "wait_interval": 0
     },
     "output_extras": [
      {
       "item_id": 1
      }
     ]
    },
    "colab_type": "code",
    "collapsed": false,
    "executionInfo": {
     "elapsed": 28844,
     "status": "ok",
     "timestamp": 1445964497165,
     "user": {
      "color": "#1FA15D",
      "displayName": "Vincent Vanhoucke",
      "isAnonymous": false,
      "isMe": true,
      "permissionId": "05076109866853157986",
      "photoUrl": "//lh6.googleusercontent.com/-cCJa7dTDcgQ/AAAAAAAAAAI/AAAAAAAACgw/r2EZ_8oYer4/s50-c-k-no/photo.jpg",
      "sessionId": "2f1ffade4c9f20de",
      "userId": "102167687554210253930"
     },
     "user_tz": 420
    },
    "id": "Mvf09fjugFU_",
    "outputId": "e3a928b4-1645-4fe8-be17-fcf47de5716d"
   },
   "outputs": [
    {
     "name": "stdout",
     "output_type": "stream",
     "text": [
      "Data size 17005207\n"
     ]
    }
   ],
   "source": [
    "def read_data(filename):\n",
    "  \"\"\"Extract the first file enclosed in a zip file as a list of words\"\"\"\n",
    "  with zipfile.ZipFile(filename) as f:\n",
    "    data = tf.compat.as_str(f.read(f.namelist()[0])).split()\n",
    "  return data\n",
    "  \n",
    "words = read_data(filename)\n",
    "print('Data size %d' % len(words))"
   ]
  },
  {
   "cell_type": "markdown",
   "metadata": {
    "colab_type": "text",
    "id": "Zdw6i4F8glpp"
   },
   "source": [
    "Build the dictionary and replace rare words with UNK token."
   ]
  },
  {
   "cell_type": "code",
   "execution_count": 15,
   "metadata": {
    "cellView": "both",
    "colab": {
     "autoexec": {
      "startup": false,
      "wait_interval": 0
     },
     "output_extras": [
      {
       "item_id": 1
      }
     ]
    },
    "colab_type": "code",
    "collapsed": false,
    "executionInfo": {
     "elapsed": 28849,
     "status": "ok",
     "timestamp": 1445964497178,
     "user": {
      "color": "#1FA15D",
      "displayName": "Vincent Vanhoucke",
      "isAnonymous": false,
      "isMe": true,
      "permissionId": "05076109866853157986",
      "photoUrl": "//lh6.googleusercontent.com/-cCJa7dTDcgQ/AAAAAAAAAAI/AAAAAAAACgw/r2EZ_8oYer4/s50-c-k-no/photo.jpg",
      "sessionId": "2f1ffade4c9f20de",
      "userId": "102167687554210253930"
     },
     "user_tz": 420
    },
    "id": "gAL1EECXeZsD",
    "outputId": "3fb4ecd1-df67-44b6-a2dc-2291730970b2"
   },
   "outputs": [
    {
     "name": "stdout",
     "output_type": "stream",
     "text": [
      "Most common words (+UNK) [['UNK', 418391], ('the', 1061396), ('of', 593677), ('and', 416629), ('one', 411764)]\n",
      "Sample data [5235, 3084, 12, 6, 195, 2, 3135, 46, 59, 156] ['anarchism', 'originated', 'as', 'a', 'term', 'of', 'abuse', 'first', 'used', 'against']\n"
     ]
    }
   ],
   "source": [
    "vocabulary_size = 50000\n",
    "\n",
    "def build_dataset(words):\n",
    "  count = [['UNK', -1]]\n",
    "  count.extend(collections.Counter(words).most_common(vocabulary_size - 1))\n",
    "  dictionary = dict()\n",
    "\n",
    "  for word, _ in count:\n",
    "    dictionary[word] = len(dictionary)\n",
    "  data = list()\n",
    "  unk_count = 0\n",
    "    \n",
    "  for word in words:\n",
    "    if word in dictionary:\n",
    "      index = dictionary[word]\n",
    "    else:\n",
    "      index = 0  # dictionary['UNK']\n",
    "      unk_count = unk_count + 1\n",
    "    data.append(index)\n",
    "  count[0][1] = unk_count\n",
    "  reverse_dictionary = dict(zip(dictionary.values(), dictionary.keys())) \n",
    "  return data, count, dictionary, reverse_dictionary\n",
    "\n",
    "data, count, dictionary, reverse_dictionary = build_dataset(words)\n",
    "print('Most common words (+UNK)', count[:5])\n",
    "print('Sample data', data[:10], [reverse_dictionary[i] for i in data[:10]])\n",
    "del words  # Hint to reduce memory."
   ]
  },
  {
   "cell_type": "markdown",
   "metadata": {
    "colab_type": "text",
    "id": "lFwoyygOmWsL"
   },
   "source": [
    "Function to generate a training batch for the skip-gram model."
   ]
  },
  {
   "cell_type": "code",
   "execution_count": 16,
   "metadata": {
    "cellView": "both",
    "colab": {
     "autoexec": {
      "startup": false,
      "wait_interval": 0
     },
     "output_extras": [
      {
       "item_id": 1
      }
     ]
    },
    "colab_type": "code",
    "collapsed": false,
    "executionInfo": {
     "elapsed": 113,
     "status": "ok",
     "timestamp": 1445964901989,
     "user": {
      "color": "#1FA15D",
      "displayName": "Vincent Vanhoucke",
      "isAnonymous": false,
      "isMe": true,
      "permissionId": "05076109866853157986",
      "photoUrl": "//lh6.googleusercontent.com/-cCJa7dTDcgQ/AAAAAAAAAAI/AAAAAAAACgw/r2EZ_8oYer4/s50-c-k-no/photo.jpg",
      "sessionId": "2f1ffade4c9f20de",
      "userId": "102167687554210253930"
     },
     "user_tz": 420
    },
    "id": "w9APjA-zmfjV",
    "outputId": "67cccb02-cdaf-4e47-d489-43bcc8d57bb8"
   },
   "outputs": [
    {
     "name": "stdout",
     "output_type": "stream",
     "text": [
      "data: ['anarchism', 'originated', 'as', 'a', 'term', 'of', 'abuse', 'first']\n",
      "\n",
      "with num_skips = 2 and skip_window = 1:\n",
      "    batch: ['originated', 'originated', 'as', 'as', 'a', 'a', 'term', 'term']\n",
      "    labels: ['anarchism', 'as', 'a', 'originated', 'term', 'as', 'of', 'a']\n",
      "\n",
      "with num_skips = 4 and skip_window = 2:\n",
      "    batch: ['as', 'as', 'as', 'as', 'a', 'a', 'a', 'a']\n",
      "    labels: ['term', 'originated', 'a', 'anarchism', 'originated', 'term', 'of', 'as']\n"
     ]
    }
   ],
   "source": [
    "data_index = 0\n",
    "\n",
    "def generate_batch(batch_size, num_skips, skip_window):\n",
    "  global data_index\n",
    "  assert batch_size % num_skips == 0\n",
    "  assert num_skips <= 2 * skip_window\n",
    "  batch = np.ndarray(shape=(batch_size), dtype=np.int32)\n",
    "  labels = np.ndarray(shape=(batch_size, 1), dtype=np.int32)\n",
    "  span = 2 * skip_window + 1  # [ skip_window target skip_window ]\n",
    "  buffer = collections.deque(maxlen=span)\n",
    "  for _ in range(span):\n",
    "    buffer.append(data[data_index])\n",
    "    data_index = (data_index + 1) % len(data)\n",
    "  for i in range(batch_size // num_skips):\n",
    "    target = skip_window  # target label at the center of the buffer\n",
    "    targets_to_avoid = [skip_window]\n",
    "    for j in range(num_skips):\n",
    "      while target in targets_to_avoid:\n",
    "        target = random.randint(0, span - 1)\n",
    "      targets_to_avoid.append(target)\n",
    "      batch[i * num_skips + j] = buffer[skip_window]\n",
    "      labels[i * num_skips + j, 0] = buffer[target]\n",
    "    buffer.append(data[data_index])\n",
    "    data_index = (data_index + 1) % len(data)\n",
    "  return batch, labels\n",
    "\n",
    "print('data:', [reverse_dictionary[di] for di in data[:8]])\n",
    "\n",
    "for num_skips, skip_window in [(2, 1), (4, 2)]:\n",
    "    data_index = 0\n",
    "    batch, labels = generate_batch(batch_size=8, num_skips=num_skips, skip_window=skip_window)\n",
    "    print('\\nwith num_skips = %d and skip_window = %d:' % (num_skips, skip_window))\n",
    "    print('    batch:', [reverse_dictionary[bi] for bi in batch])\n",
    "    print('    labels:', [reverse_dictionary[li] for li in labels.reshape(8)])"
   ]
  },
  {
   "cell_type": "markdown",
   "metadata": {
    "colab_type": "text",
    "id": "Ofd1MbBuwiva"
   },
   "source": [
    "Build and train a skip-gram model."
   ]
  },
  {
   "cell_type": "code",
   "execution_count": 17,
   "metadata": {
    "cellView": "both",
    "colab": {
     "autoexec": {
      "startup": false,
      "wait_interval": 0
     }
    },
    "colab_type": "code",
    "collapsed": false,
    "id": "8pQKsV4Vwlzy"
   },
   "outputs": [
    {
     "name": "stdout",
     "output_type": "stream",
     "text": [
      "finished building graph.\n"
     ]
    }
   ],
   "source": [
    "batch_size = 128\n",
    "embedding_size = 128  # Dimension of the embedding vector.\n",
    "skip_window = 1       # How many words to consider left and right.\n",
    "num_skips = 2         # How many times to reuse an input to generate a label.\n",
    "\n",
    "# We pick a random validation set to sample nearest neighbors. Here we limit the\n",
    "# validation samples to the words that have a low numeric ID, which by\n",
    "# construction are also the most frequent.\n",
    "valid_size = 16     # Random set of words to evaluate similarity on.\n",
    "valid_window = 100  # Only pick dev samples in the head of the distribution.\n",
    "valid_examples = np.random.choice(valid_window, valid_size, replace=False)\n",
    "num_sampled = 64    # Number of negative examples to sample.\n",
    "\n",
    "graph = tf.Graph()\n",
    "\n",
    "with graph.as_default():\n",
    "\n",
    "  # Input data.\n",
    "  train_inputs = tf.placeholder(tf.int32, shape=[batch_size])\n",
    "  train_labels = tf.placeholder(tf.int32, shape=[batch_size, 1])\n",
    "  valid_dataset = tf.constant(valid_examples, dtype=tf.int32)\n",
    "\n",
    "  # Ops and variables pinned to the CPU because of missing GPU implementation\n",
    "  with tf.device('/cpu:0'):\n",
    "    # Look up embeddings for inputs.\n",
    "    embeddings = tf.Variable(tf.random_uniform([vocabulary_size, embedding_size], \n",
    "                                               -1.0, 1.0))\n",
    "    embed      = tf.nn.embedding_lookup(embeddings, train_inputs)\n",
    "\n",
    "    # Construct the variables for the NCE loss\n",
    "    nce_weights = tf.Variable(tf.truncated_normal([vocabulary_size, embedding_size],\n",
    "                                                  stddev=1.0 / math.sqrt(embedding_size)))\n",
    "    nce_biases  = tf.Variable(tf.zeros([vocabulary_size]))\n",
    "\n",
    "  # Compute the average NCE loss for the batch.\n",
    "  # tf.nce_loss automatically draws a new sample of the negative labels each\n",
    "  # time we evaluate the loss.\n",
    "  loss = tf.reduce_mean(\n",
    "      tf.nn.nce_loss(nce_weights, \n",
    "                     nce_biases, \n",
    "                     embed, \n",
    "                     train_labels,\n",
    "                     num_sampled, \n",
    "                     vocabulary_size))\n",
    "\n",
    "  # Construct the SGD optimizer using a learning rate of 1.0.\n",
    "  optimizer = tf.train.GradientDescentOptimizer(1.0).minimize(loss)\n",
    "\n",
    "  # Compute the cosine similarity between minibatch examples and all embeddings.\n",
    "  norm = tf.sqrt(tf.reduce_sum(tf.square(embeddings), \n",
    "                               1, \n",
    "                               keep_dims=True))\n",
    "  normalized_embeddings = embeddings / norm\n",
    "  valid_embeddings = tf.nn.embedding_lookup(normalized_embeddings, \n",
    "                                            valid_dataset)\n",
    "  similarity = tf.matmul(valid_embeddings, \n",
    "                         normalized_embeddings, \n",
    "                         transpose_b=True)\n",
    "\n",
    "  # Define info to be used by the SummaryWriter. This will let TensorBoard\n",
    "  # plot loss values during the training process.\n",
    "  loss_summary     = tf.scalar_summary(\"loss\", loss)\n",
    "  train_summary_op = tf.merge_summary([loss_summary])\n",
    "\n",
    "  # Add variable initializer.\n",
    "  init = tf.initialize_all_variables()\n",
    "  print(\"finished building graph.\")"
   ]
  },
  {
   "cell_type": "code",
   "execution_count": 18,
   "metadata": {
    "cellView": "both",
    "colab": {
     "autoexec": {
      "startup": false,
      "wait_interval": 0
     },
     "output_extras": [
      {
       "item_id": 23
      },
      {
       "item_id": 48
      },
      {
       "item_id": 61
      }
     ]
    },
    "colab_type": "code",
    "collapsed": false,
    "executionInfo": {
     "elapsed": 436189,
     "status": "ok",
     "timestamp": 1445965429787,
     "user": {
      "color": "#1FA15D",
      "displayName": "Vincent Vanhoucke",
      "isAnonymous": false,
      "isMe": true,
      "permissionId": "05076109866853157986",
      "photoUrl": "//lh6.googleusercontent.com/-cCJa7dTDcgQ/AAAAAAAAAAI/AAAAAAAACgw/r2EZ_8oYer4/s50-c-k-no/photo.jpg",
      "sessionId": "2f1ffade4c9f20de",
      "userId": "102167687554210253930"
     },
     "user_tz": 420
    },
    "id": "1bQFGceBxrWW",
    "outputId": "5ebd6d9a-33c6-4bcd-bf6d-252b0b6055e4"
   },
   "outputs": [
    {
     "name": "stdout",
     "output_type": "stream",
     "text": [
      "Initialized\n",
      "Average loss at step  0 :  291.498321533\n",
      "Nearest to have: predestined, anxious, considerable, misc, materialism, mackey, complaint, voiceless,\n",
      "Nearest to while: apostate, surrealism, mercedes, awacs, atlanteans, neisse, problematic, performer,\n",
      "Nearest to will: distinctly, ges, bonfire, electronic, broaden, itis, cul, blur,\n",
      "Nearest to called: physiologically, porfirio, juno, haydn, aeronautical, rise, zariski, sars,\n",
      "Nearest to american: vytautas, gallifrey, japanese, lba, los, indomitable, iridescent, nu,\n",
      "Nearest to some: th, transgenic, construct, hevelius, winograd, capablanca, devastates, bylaws,\n",
      "Nearest to six: larval, directive, marischal, bpp, scientologists, monarchical, shorts, characterises,\n",
      "Nearest to for: firewood, adolph, miscarriage, deal, bloodlines, administered, hunter, gilliam,\n",
      "Nearest to a: textile, foibles, theorists, witnesses, garand, artworks, aqaba, voiced,\n",
      "Nearest to i: cochrane, fealty, willys, jo, positivist, foreshadowed, invaders, escalation,\n",
      "Nearest to used: chives, kathryn, congreso, heathrow, corruptions, unfortunate, religiously, undeniable,\n",
      "Nearest to during: sturluson, crushing, pals, gladiators, ukrainians, pejoratively, morpheme, gelling,\n",
      "Nearest to who: bhangra, anacletus, osprey, earle, knox, kut, marginally, enhancing,\n",
      "Nearest to their: spoleto, appointing, kurds, age, notch, parson, stitch, peyton,\n",
      "Nearest to other: nematic, dragging, leonid, drpg, bayern, borgia, environments, spear,\n",
      "Nearest to or: ministerio, pogrom, galatians, isotropy, arrears, documentation, bra, moulin,\n",
      "Average loss at step  2000 :  113.744041357\n",
      "Average loss at step  4000 :  52.2121733093\n",
      "Average loss at step  6000 :  33.567126627\n",
      "Average loss at step  8000 :  23.9516824527\n",
      "Average loss at step  10000 :  18.0675919123\n",
      "Nearest to have: be, had, event, nine, rotary, was, agnostic, complaint,\n",
      "Nearest to while: team, gland, mercedes, ascent, agave, stood, barbuda, apostate,\n",
      "Nearest to will: distinctly, electronic, de, settlement, progression, canada, continually, mild,\n",
      "Nearest to called: rise, earth, aeronautical, haydn, capacity, analogue, UNK, vol,\n",
      "Nearest to american: japanese, establishment, cow, gland, lines, cl, austin, burgess,\n",
      "Nearest to some: this, agave, construct, amo, reginae, th, besides, rule,\n",
      "Nearest to six: gland, gb, zero, reginae, nine, UNK, cc, mathbf,\n",
      "Nearest to for: and, of, after, in, to, commit, gb, deadly,\n",
      "Nearest to a: the, and, one, an, ward, soroban, reginae, UNK,\n",
      "Nearest to i: jo, cochrane, complexity, agave, festival, easy, invaders, positivist,\n",
      "Nearest to used: chives, refrain, analogue, unfortunate, gland, gauge, industry, grow,\n",
      "Nearest to during: from, crushing, hockey, factbook, in, reginae, treat, ac,\n",
      "Nearest to who: pronunciation, broadcasting, selected, respondents, justification, crude, kentucky, vulture,\n",
      "Nearest to their: tubing, indicate, reginae, abwehr, justice, the, watching, archive,\n",
      "Nearest to other: spear, delegates, phoenix, france, vs, practical, gland, solstice,\n",
      "Nearest to or: and, music, phi, doubles, correspondence, UNK, of, galatians,\n",
      "Average loss at step  12000 :  13.8478936837\n",
      "Average loss at step  14000 :  11.4687672431\n",
      "Average loss at step  16000 :  10.0192468759\n",
      "Average loss at step  18000 :  8.69771373582\n",
      "Average loss at step  20000 :  7.96588591897\n",
      "Nearest to have: be, had, has, dasyprocta, are, was, event, complaint,\n",
      "Nearest to while: agouti, apostate, team, ascent, dasyprocta, stood, mercedes, performer,\n",
      "Nearest to will: distinctly, de, electronic, canada, until, settlement, dasyprocta, linebacker,\n",
      "Nearest to called: UNK, rise, earth, haydn, aeronautical, and, analogue, capacity,\n",
      "Nearest to american: and, japanese, backslash, establishment, gland, beloved, cl, unalaska,\n",
      "Nearest to some: this, adder, construct, the, copies, agave, reginae, amo,\n",
      "Nearest to six: eight, nine, zero, seven, three, four, dasyprocta, five,\n",
      "Nearest to for: and, in, of, agouti, with, after, to, from,\n",
      "Nearest to a: the, agouti, and, this, rijndael, dasyprocta, kumar, hadith,\n",
      "Nearest to i: cochrane, jo, UNK, complexity, pillar, agave, agouti, invaders,\n",
      "Nearest to used: refrain, chives, unfortunate, alamanni, analogue, gland, losing, grow,\n",
      "Nearest to during: from, in, crushing, on, seemingly, hockey, hellenic, iota,\n",
      "Nearest to who: he, and, broadcasting, it, respondents, enhancing, agouti, crude,\n",
      "Nearest to their: the, his, appointing, indicate, notch, tubing, reginae, archive,\n",
      "Nearest to other: dasyprocta, spear, delegates, agouti, ugly, monroe, surgical, in,\n",
      "Nearest to or: and, agouti, phi, seven, six, operatorname, dasyprocta, eight,\n",
      "Average loss at step  22000 :  7.11441015553\n",
      "Average loss at step  24000 :  7.00149621439\n",
      "Average loss at step  26000 :  6.57843374217\n",
      "Average loss at step  28000 :  6.1437725265\n",
      "Average loss at step  30000 :  6.20049076295\n",
      "Nearest to have: had, be, has, are, were, dasyprocta, event, akita,\n",
      "Nearest to while: agouti, atlanteans, team, for, apostate, dasyprocta, radioactive, gland,\n",
      "Nearest to will: would, could, can, trinomial, distinctly, mild, dasyprocta, linebacker,\n",
      "Nearest to called: haydn, UNK, abitibi, rise, earth, and, aeronautical, analogue,\n",
      "Nearest to american: japanese, and, backslash, beloved, establishment, gland, unalaska, cl,\n",
      "Nearest to some: this, aorta, the, adder, copies, construct, agave, these,\n",
      "Nearest to six: eight, four, nine, seven, five, three, zero, two,\n",
      "Nearest to for: of, with, in, agouti, after, and, from, to,\n",
      "Nearest to a: the, agouti, aorta, this, hadith, dasyprocta, their, victoriae,\n",
      "Nearest to i: cochrane, jo, partitions, complexity, pillar, agouti, cavendish, sinister,\n",
      "Nearest to used: refrain, unfortunate, chives, alamanni, bpp, analogue, losing, oversized,\n",
      "Nearest to during: from, in, on, crushing, seemingly, hellenic, hockey, bos,\n",
      "Nearest to who: he, and, it, respondents, broadcasting, they, enhancing, crude,\n",
      "Nearest to their: the, his, its, a, aorta, appointing, reginae, abdera,\n",
      "Nearest to other: monmouthshire, dasyprocta, spear, bpp, reuptake, abitibi, ugly, monroe,\n",
      "Nearest to or: and, agouti, abitibi, phi, operatorname, dasyprocta, amalthea, abet,\n",
      "Average loss at step  32000 :  5.86000205469\n",
      "Average loss at step  34000 :  5.89167309642\n",
      "Average loss at step  36000 :  5.69718092334\n",
      "Average loss at step  38000 :  5.30189691222\n",
      "Average loss at step  40000 :  5.4407269392\n",
      "Nearest to have: had, be, has, are, were, dasyprocta, complaint, event,\n",
      "Nearest to while: agouti, for, dasyprocta, where, gland, atlanteans, apostate, team,\n",
      "Nearest to will: can, would, could, may, to, mild, trinomial, linebacker,\n",
      "Nearest to called: haydn, fancher, abitibi, analogue, earth, and, aeronautical, anarchistic,\n",
      "Nearest to american: japanese, and, backslash, establishment, gland, former, beloved, cl,\n",
      "Nearest to some: this, aorta, the, adder, copies, these, many, reginae,\n",
      "Nearest to six: seven, eight, four, five, three, nine, zero, dasyprocta,\n",
      "Nearest to for: after, agouti, of, in, with, on, commit, from,\n",
      "Nearest to a: the, agouti, aorta, this, dasyprocta, wood, kumar, hadith,\n",
      "Nearest to i: cochrane, jo, partitions, cavendish, pillar, complexity, agouti, you,\n",
      "Nearest to used: refrain, analogue, unfortunate, micrometre, chives, bpp, gland, dasyprocta,\n",
      "Nearest to during: from, in, on, pals, crushing, for, with, seemingly,\n",
      "Nearest to who: he, and, which, respondents, it, bugle, they, marginally,\n",
      "Nearest to their: the, his, its, aorta, a, bundle, appointing, nutrient,\n",
      "Nearest to other: monmouthshire, spear, dasyprocta, bpp, both, various, ugly, three,\n",
      "Nearest to or: and, agouti, phi, abitibi, primigenius, operatorname, eight, four,\n",
      "Average loss at step  42000 :  5.28085264277\n",
      "Average loss at step  44000 :  5.26371086609\n",
      "Average loss at step  46000 :  5.25557654619\n",
      "Average loss at step  48000 :  5.0368887279\n",
      "Average loss at step  50000 :  5.15373088801\n",
      "Nearest to have: had, be, has, are, were, dasyprocta, complaint, nine,\n",
      "Nearest to while: agouti, where, dasyprocta, gland, apostate, for, atlanteans, although,\n",
      "Nearest to will: would, can, could, may, to, mild, trinomial, linebacker,\n",
      "Nearest to called: haydn, fancher, UNK, abitibi, analogue, earth, and, glottal,\n",
      "Nearest to american: japanese, backslash, former, and, establishment, parliament, beloved, gland,\n",
      "Nearest to some: these, aorta, many, this, the, adder, copies, reginae,\n",
      "Nearest to six: eight, four, seven, five, three, nine, dasyprocta, one,\n",
      "Nearest to for: agouti, after, of, commit, from, in, and, on,\n",
      "Nearest to a: the, agouti, hadith, aorta, this, imran, any, rijndael,\n",
      "Nearest to i: cochrane, you, jo, partitions, we, cavendish, pillar, complexity,\n",
      "Nearest to used: refrain, unfortunate, micrometre, analogue, coquitlam, alamanni, blackjack, chives,\n",
      "Nearest to during: from, in, on, pals, crushing, for, and, after,\n",
      "Nearest to who: he, which, respondents, bugle, they, and, broadcasting, also,\n",
      "Nearest to their: its, his, the, aorta, her, a, compel, nutrient,\n",
      "Nearest to other: spear, various, monmouthshire, dasyprocta, both, bpp, ugly, kicker,\n",
      "Nearest to or: and, agouti, abitibi, primigenius, gland, four, phi, operatorname,\n",
      "Average loss at step  52000 :  5.16753612494\n",
      "Average loss at step  54000 :  5.09714177155\n",
      "Average loss at step  56000 :  5.03356775308\n",
      "Average loss at step  58000 :  5.11899019003\n",
      "Average loss at step  60000 :  4.96197408932\n",
      "Nearest to have: had, has, be, are, were, dasyprocta, microcebus, ssbn,\n",
      "Nearest to while: agouti, where, although, gland, dasyprocta, microcebus, callithrix, for,\n",
      "Nearest to will: would, can, could, may, skates, to, mild, cannot,\n",
      "Nearest to called: haydn, fancher, microcebus, rw, abitibi, anarchistic, UNK, callithrix,\n",
      "Nearest to american: japanese, backslash, former, and, western, gland, french, establishment,\n",
      "Nearest to some: many, these, aorta, this, the, copies, adder, all,\n",
      "Nearest to six: eight, five, four, seven, three, nine, zero, dasyprocta,\n",
      "Nearest to for: agouti, of, after, in, commit, thibetanus, and, on,\n",
      "Nearest to a: the, agouti, aorta, hadith, any, imran, this, tamarin,\n",
      "Nearest to i: cochrane, you, we, partitions, UNK, cavendish, they, softball,\n",
      "Nearest to used: microsite, refrain, coquitlam, found, analogue, unfortunate, callithrix, microcebus,\n",
      "Nearest to during: from, in, after, on, crushing, pals, with, at,\n",
      "Nearest to who: he, which, respondents, they, bugle, and, it, that,\n",
      "Nearest to their: its, his, the, her, aorta, dist, nutrient, compel,\n",
      "Nearest to other: various, ssbn, callithrix, mockingbird, spear, monmouthshire, dasyprocta, many,\n",
      "Nearest to or: and, agouti, microcebus, abitibi, primigenius, tamarin, callithrix, but,\n",
      "Average loss at step  62000 :  4.78109861159\n",
      "Average loss at step  64000 :  4.79610111094\n",
      "Average loss at step  66000 :  4.97601877177\n",
      "Average loss at step  68000 :  4.90848254538\n",
      "Average loss at step  70000 :  4.7702145201\n",
      "Nearest to have: had, has, are, were, be, dasyprocta, ssbn, microcebus,\n",
      "Nearest to while: agouti, where, although, for, dasyprocta, gland, microcebus, callithrix,\n",
      "Nearest to will: would, can, could, may, to, skates, might, must,\n",
      "Nearest to called: haydn, fancher, microcebus, UNK, anarchistic, used, rw, abitibi,\n",
      "Nearest to american: japanese, backslash, french, former, western, gland, medicines, establishment,\n",
      "Nearest to some: many, these, aorta, this, all, the, copies, their,\n",
      "Nearest to six: eight, four, five, seven, three, nine, zero, two,\n",
      "Nearest to for: agouti, in, after, commit, of, while, and, wct,\n",
      "Nearest to a: the, agouti, aorta, any, microcebus, wct, tamarin, thaler,\n",
      "Nearest to i: cochrane, you, we, UNK, seven, partitions, jo, cavendish,\n",
      "Nearest to used: microsite, found, refrain, known, analogue, microcebus, callithrix, chives,\n",
      "Nearest to during: in, from, after, on, pals, crushing, at, gb,\n",
      "Nearest to who: he, which, they, respondents, bugle, that, it, also,\n",
      "Nearest to their: its, his, the, her, dist, some, aorta, nutrient,\n",
      "Nearest to other: various, ssbn, callithrix, many, some, mockingbird, mucus, monmouthshire,\n",
      "Nearest to or: and, agouti, microcebus, abitibi, tamarin, callithrix, primigenius, thaler,\n",
      "Average loss at step  72000 :  4.79635212624\n",
      "Average loss at step  74000 :  4.76867641541\n",
      "Average loss at step  76000 :  4.85821740031\n",
      "Average loss at step  78000 :  4.80832743812\n",
      "Average loss at step  80000 :  4.81225333273\n",
      "Nearest to have: had, has, are, were, be, dasyprocta, complaint, ssbn,\n",
      "Nearest to while: although, agouti, where, gland, dasyprocta, microcebus, callithrix, akita,\n",
      "Nearest to will: would, can, could, may, might, to, skates, cannot,\n",
      "Nearest to called: fancher, haydn, microcebus, used, anarchistic, callithrix, analogue, reuptake,\n",
      "Nearest to american: japanese, french, former, felis, backslash, barberini, western, british,\n",
      "Nearest to some: many, these, aorta, all, this, several, copies, thaler,\n",
      "Nearest to six: five, four, eight, seven, three, nine, two, zero,\n",
      "Nearest to for: agouti, commit, after, in, of, wct, while, abet,\n",
      "Nearest to a: the, agouti, aorta, hadith, any, microcebus, imran, rijndael,\n",
      "Nearest to i: you, cochrane, we, partitions, UNK, humour, jo, cavendish,\n",
      "Nearest to used: microsite, known, found, called, microcebus, gland, refrain, callithrix,\n",
      "Nearest to during: in, from, after, at, iit, and, on, gb,\n",
      "Nearest to who: he, they, which, respondents, bugle, and, there, spared,\n",
      "Nearest to their: its, his, the, her, dist, aorta, nutrient, compel,\n",
      "Nearest to other: various, many, ssbn, callithrix, saya, some, spear, mucus,\n",
      "Nearest to or: and, agouti, microcebus, primigenius, abitibi, tamarin, thaler, abet,\n",
      "Average loss at step  82000 :  4.79396195209\n",
      "Average loss at step  84000 :  4.78870844817\n",
      "Average loss at step  86000 :  4.77946496952\n",
      "Average loss at step  88000 :  4.6954002521\n",
      "Average loss at step  90000 :  4.75472764993\n",
      "Nearest to have: had, has, were, are, be, ssbn, dasyprocta, complaint,\n",
      "Nearest to while: although, where, agouti, dasyprocta, gland, microcebus, akita, but,\n",
      "Nearest to will: would, can, could, may, might, must, cannot, to,\n",
      "Nearest to called: fancher, microcebus, haydn, used, analogue, callithrix, glottal, thaler,\n",
      "Nearest to american: japanese, french, british, former, backslash, felis, english, barberini,\n",
      "Nearest to some: many, these, aorta, several, this, all, most, copies,\n",
      "Nearest to six: eight, seven, five, four, three, nine, dasyprocta, zero,\n",
      "Nearest to for: agouti, after, of, while, iit, commit, thibetanus, abet,\n",
      "Nearest to a: the, agouti, aorta, any, wct, dasyprocta, tamarin, thaler,\n",
      "Nearest to i: you, cochrane, we, jo, partitions, they, ii, humour,\n",
      "Nearest to used: microsite, known, found, called, blackjack, microcebus, refrain, gland,\n",
      "Nearest to during: in, from, after, at, on, iit, and, gb,\n",
      "Nearest to who: he, they, which, respondents, bugle, and, also, there,\n",
      "Nearest to their: its, his, the, her, some, nutrient, aorta, dist,\n",
      "Nearest to other: various, many, ssbn, callithrix, mockingbird, saya, some, including,\n",
      "Nearest to or: and, microcebus, agouti, abitibi, tamarin, but, primigenius, microsite,\n",
      "Average loss at step  92000 :  4.7028529253\n",
      "Average loss at step  94000 :  4.62325993067\n",
      "Average loss at step  96000 :  4.72794373059\n",
      "Average loss at step  98000 :  4.61026059818\n",
      "Average loss at step  100000 :  4.70276712012\n",
      "Nearest to have: had, has, are, were, be, ssbn, dasyprocta, complaint,\n",
      "Nearest to while: although, where, agouti, when, but, dasyprocta, for, gland,\n",
      "Nearest to will: would, can, could, may, might, must, cannot, should,\n",
      "Nearest to called: fancher, used, microcebus, haydn, considered, UNK, anarchistic, glottal,\n",
      "Nearest to american: japanese, french, british, english, backslash, felis, watchtower, establishment,\n",
      "Nearest to some: many, these, aorta, several, all, their, the, this,\n",
      "Nearest to six: seven, five, eight, four, nine, three, two, zero,\n",
      "Nearest to for: agouti, while, after, in, when, commit, iit, on,\n",
      "Nearest to a: the, agouti, any, aorta, tamarin, hadith, imran, thibetanus,\n",
      "Nearest to i: you, we, cochrane, UNK, jo, partitions, ii, cavendish,\n",
      "Nearest to used: microsite, found, known, called, microcebus, blackjack, gland, callithrix,\n",
      "Nearest to during: in, after, from, at, of, iit, on, gb,\n",
      "Nearest to who: he, they, respondents, which, and, bugle, never, also,\n",
      "Nearest to their: its, his, the, her, some, nutrient, several, aorta,\n",
      "Nearest to other: various, many, ssbn, mockingbird, including, saya, callithrix, some,\n",
      "Nearest to or: and, microcebus, agouti, primigenius, tamarin, abitibi, but, abet,\n",
      "finished training.\n"
     ]
    }
   ],
   "source": [
    "# Begin training.\n",
    "num_steps = 100001\n",
    "\n",
    "with tf.Session(graph=graph) as session:\n",
    "  # We must initialize all variables before we use them.\n",
    "  init.run()\n",
    "  print(\"Initialized\")\n",
    "\n",
    "  # Directory in which to write summary information.\n",
    "  # You can point TensorBoard to this directory via:\n",
    "  # $ tensorboard --logdir=/tmp/word2vec_basic/summaries\n",
    "  # Tensorflow assumes this directory already exists, so we need to create it.\n",
    "  timestamp = str(int(time.time()))\n",
    "  if not os.path.exists(os.path.join(\"/tmp/word2vec_basic\",\n",
    "                                     \"summaries\", timestamp)):\n",
    "    os.makedirs(os.path.join(\"/tmp/word2vec_basic\", \"summaries\", timestamp))\n",
    "  # Create the SummaryWriter\n",
    "  train_summary_writer = tf.train.SummaryWriter(os.path.join(\"/tmp/word2vec_basic\", \n",
    "                                                             \"summaries\", timestamp), \n",
    "                                                session.graph)\n",
    "\n",
    "  average_loss = 0\n",
    "  for step in xrange(num_steps):\n",
    "    batch_inputs, batch_labels = generate_batch(batch_size, \n",
    "                                                num_skips, \n",
    "                                                skip_window)\n",
    "    feed_dict = {train_inputs: batch_inputs, \n",
    "                 train_labels: batch_labels}\n",
    "\n",
    "    # We perform one update step by evaluating the optimizer op (including it\n",
    "    # in the list of returned values for session.run()\n",
    "    # Also evaluate the training summary op.\n",
    "    _, loss_val, tsummary = session.run([optimizer, loss, train_summary_op], \n",
    "                                        feed_dict=feed_dict)\n",
    "    average_loss += loss_val\n",
    "    # Write the evaluated summary info to the SummaryWriter. This info will\n",
    "    # then show up in the TensorBoard events.\n",
    "    train_summary_writer.add_summary(tsummary, step)\n",
    "\n",
    "    if step % 2000 == 0:\n",
    "      if step > 0:\n",
    "        average_loss /= 2000\n",
    "      # The average loss is an estimate of the loss over the last 2000 batches.\n",
    "      print(\"Average loss at step \", step, \": \", average_loss)\n",
    "      average_loss = 0\n",
    "\n",
    "    # Note that this is expensive (~20% slowdown if computed every 500 steps)\n",
    "    if step % 10000 == 0:\n",
    "      sim = similarity.eval()\n",
    "      for i in xrange(valid_size):\n",
    "        valid_word = reverse_dictionary[valid_examples[i]]\n",
    "        top_k   = 8  # number of nearest neighbors\n",
    "        nearest = (-sim[i, :]).argsort()[1:top_k + 1]\n",
    "        log_str = \"Nearest to %s:\" % valid_word\n",
    "        for k in xrange(top_k):\n",
    "          close_word = reverse_dictionary[nearest[k]]\n",
    "          log_str = \"%s %s,\" % (log_str, close_word)\n",
    "        print(log_str)\n",
    "  final_embeddings = normalized_embeddings.eval()\n",
    "  print(\"finished training.\")"
   ]
  },
  {
   "cell_type": "code",
   "execution_count": 19,
   "metadata": {
    "cellView": "both",
    "colab": {
     "autoexec": {
      "startup": false,
      "wait_interval": 0
     }
    },
    "colab_type": "code",
    "collapsed": true,
    "id": "jjJXYA_XzV79"
   },
   "outputs": [],
   "source": [
    "# Visualize the embeddings.\n",
    "def plot_with_labels(low_dim_embs, labels, filename='tsne.png'):\n",
    "  assert low_dim_embs.shape[0] >= len(labels), \"More labels than embeddings\"\n",
    "  plt.figure(figsize=(18, 18))  # in inches\n",
    "  for i, label in enumerate(labels):\n",
    "    x, y = low_dim_embs[i, :]\n",
    "    plt.scatter(x, y)\n",
    "    plt.annotate(label,\n",
    "                 xy=(x, y),\n",
    "                 xytext=(5, 2),\n",
    "                 textcoords='offset points',\n",
    "                 ha='right',\n",
    "                 va='bottom')\n",
    "\n",
    "  plt.savefig(filename)\n"
   ]
  },
  {
   "cell_type": "code",
   "execution_count": null,
   "metadata": {
    "cellView": "both",
    "colab": {
     "autoexec": {
      "startup": false,
      "wait_interval": 0
     },
     "output_extras": [
      {
       "item_id": 1
      }
     ]
    },
    "colab_type": "code",
    "collapsed": false,
    "executionInfo": {
     "elapsed": 4763,
     "status": "ok",
     "timestamp": 1445965465525,
     "user": {
      "color": "#1FA15D",
      "displayName": "Vincent Vanhoucke",
      "isAnonymous": false,
      "isMe": true,
      "permissionId": "05076109866853157986",
      "photoUrl": "//lh6.googleusercontent.com/-cCJa7dTDcgQ/AAAAAAAAAAI/AAAAAAAACgw/r2EZ_8oYer4/s50-c-k-no/photo.jpg",
      "sessionId": "2f1ffade4c9f20de",
      "userId": "102167687554210253930"
     },
     "user_tz": 420
    },
    "id": "o_e0D_UezcDe",
    "outputId": "df22e4a5-e8ec-4e5e-d384-c6cf37c68c34",
    "scrolled": true
   },
   "outputs": [],
   "source": [
    "try:\n",
    "  from sklearn.manifold import TSNE\n",
    "  import matplotlib.pyplot as plt\n",
    "\n",
    "  tsne = TSNE(perplexity=30, n_components=2, init='pca', n_iter=5000)\n",
    "  plot_only = 500\n",
    "  low_dim_embs = tsne.fit_transform(final_embeddings[:plot_only, :])\n",
    "  labels = [reverse_dictionary[i] for i in xrange(plot_only)]\n",
    "  plot_with_labels(low_dim_embs, labels)\n",
    "\n",
    "except ImportError:\n",
    "  print(\"Please install sklearn and matplotlib to visualize embeddings.\")"
   ]
  },
  {
   "cell_type": "code",
   "execution_count": null,
   "metadata": {
    "collapsed": true
   },
   "outputs": [],
   "source": []
  }
 ],
 "metadata": {
  "colab": {
   "default_view": {},
   "name": "5_word2vec.ipynb",
   "provenance": [],
   "version": "0.3.2",
   "views": {}
  },
  "kernelspec": {
   "display_name": "Python 3",
   "language": "python",
   "name": "python3"
  },
  "language_info": {
   "codemirror_mode": {
    "name": "ipython",
    "version": 3
   },
   "file_extension": ".py",
   "mimetype": "text/x-python",
   "name": "python",
   "nbconvert_exporter": "python",
   "pygments_lexer": "ipython3",
   "version": "3.5.2"
  }
 },
 "nbformat": 4,
 "nbformat_minor": 0
}
